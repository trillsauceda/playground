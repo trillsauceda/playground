{
 "cells": [
  {
   "cell_type": "markdown",
   "metadata": {},
   "source": [
    "# This notebook controls most of the visualization functionality"
   ]
  },
  {
   "cell_type": "markdown",
   "metadata": {},
   "source": [
    "# Install\n",
    "\n",
    "These widgets may not show up in your Jupyter notebook without first installing ipywidgets and enabling the extensions."
   ]
  },
  {
   "cell_type": "markdown",
   "metadata": {},
   "source": [
    "pip install ipywidgets\n",
    "\n",
    "jupyter nbextension enable --py widgetsnbextension\n",
    "\n",
    "or\n",
    "\n",
    "jupyter nbextension enable --py --sys-prefix widgetsnbextension"
   ]
  },
  {
   "cell_type": "code",
   "execution_count": 1,
   "metadata": {},
   "outputs": [],
   "source": [
    "import ipywidgets as widgets\n",
    "import markdown\n",
    "from IPython.display import display\n",
    "from __future__ import print_function\n",
    "from ipywidgets import interact, interactive, fixed, interact_manual"
   ]
  },
  {
   "cell_type": "markdown",
   "metadata": {},
   "source": [
    "# GUI\n",
    "\n",
    "This codeblock builds and displays the GUI."
   ]
  },
  {
   "cell_type": "code",
   "execution_count": 2,
   "metadata": {},
   "outputs": [
    {
     "data": {
      "application/vnd.jupyter.widget-view+json": {
       "model_id": "cf81e73728a546e1a8766cac9821b5d4",
       "version_major": 2,
       "version_minor": 0
      },
      "text/html": [
       "<p>Failed to display Jupyter Widget of type <code>Text</code>.</p>\n",
       "<p>\n",
       "  If you're reading this message in the Jupyter Notebook or JupyterLab Notebook, it may mean\n",
       "  that the widgets JavaScript is still loading. If this message persists, it\n",
       "  likely means that the widgets JavaScript library is either not installed or\n",
       "  not enabled. See the <a href=\"https://ipywidgets.readthedocs.io/en/stable/user_install.html\">Jupyter\n",
       "  Widgets Documentation</a> for setup instructions.\n",
       "</p>\n",
       "<p>\n",
       "  If you're reading this message in another frontend (for example, a static\n",
       "  rendering on GitHub or <a href=\"https://nbviewer.jupyter.org/\">NBViewer</a>),\n",
       "  it may mean that your frontend doesn't currently support widgets.\n",
       "</p>\n"
      ],
      "text/plain": [
       "Text(value='Name', description='Species: ')"
      ]
     },
     "metadata": {},
     "output_type": "display_data"
    },
    {
     "data": {
      "application/vnd.jupyter.widget-view+json": {
       "model_id": "1c78744f7b8d40e9aa805b1645a16fa4",
       "version_major": 2,
       "version_minor": 0
      },
      "text/html": [
       "<p>Failed to display Jupyter Widget of type <code>Dropdown</code>.</p>\n",
       "<p>\n",
       "  If you're reading this message in the Jupyter Notebook or JupyterLab Notebook, it may mean\n",
       "  that the widgets JavaScript is still loading. If this message persists, it\n",
       "  likely means that the widgets JavaScript library is either not installed or\n",
       "  not enabled. See the <a href=\"https://ipywidgets.readthedocs.io/en/stable/user_install.html\">Jupyter\n",
       "  Widgets Documentation</a> for setup instructions.\n",
       "</p>\n",
       "<p>\n",
       "  If you're reading this message in another frontend (for example, a static\n",
       "  rendering on GitHub or <a href=\"https://nbviewer.jupyter.org/\">NBViewer</a>),\n",
       "  it may mean that your frontend doesn't currently support widgets.\n",
       "</p>\n"
      ],
      "text/plain": [
       "Dropdown(description='Algorithm: ', options=('CTA', 'GLM', 'RF'), value='CTA')"
      ]
     },
     "metadata": {},
     "output_type": "display_data"
    },
    {
     "data": {
      "application/vnd.jupyter.widget-view+json": {
       "model_id": "8c03f2a64a944de39966d9c10c079b22",
       "version_major": 2,
       "version_minor": 0
      },
      "text/html": [
       "<p>Failed to display Jupyter Widget of type <code>Dropdown</code>.</p>\n",
       "<p>\n",
       "  If you're reading this message in the Jupyter Notebook or JupyterLab Notebook, it may mean\n",
       "  that the widgets JavaScript is still loading. If this message persists, it\n",
       "  likely means that the widgets JavaScript library is either not installed or\n",
       "  not enabled. See the <a href=\"https://ipywidgets.readthedocs.io/en/stable/user_install.html\">Jupyter\n",
       "  Widgets Documentation</a> for setup instructions.\n",
       "</p>\n",
       "<p>\n",
       "  If you're reading this message in another frontend (for example, a static\n",
       "  rendering on GitHub or <a href=\"https://nbviewer.jupyter.org/\">NBViewer</a>),\n",
       "  it may mean that your frontend doesn't currently support widgets.\n",
       "</p>\n"
      ],
      "text/plain": [
       "Dropdown(description='Prediction threshold: ', options=('1', '10', '50'), value='1')"
      ]
     },
     "metadata": {},
     "output_type": "display_data"
    },
    {
     "data": {
      "application/vnd.jupyter.widget-view+json": {
       "model_id": "87ecb253fdb34616993504e67672d585",
       "version_major": 2,
       "version_minor": 0
      },
      "text/html": [
       "<p>Failed to display Jupyter Widget of type <code>SelectionSlider</code>.</p>\n",
       "<p>\n",
       "  If you're reading this message in the Jupyter Notebook or JupyterLab Notebook, it may mean\n",
       "  that the widgets JavaScript is still loading. If this message persists, it\n",
       "  likely means that the widgets JavaScript library is either not installed or\n",
       "  not enabled. See the <a href=\"https://ipywidgets.readthedocs.io/en/stable/user_install.html\">Jupyter\n",
       "  Widgets Documentation</a> for setup instructions.\n",
       "</p>\n",
       "<p>\n",
       "  If you're reading this message in another frontend (for example, a static\n",
       "  rendering on GitHub or <a href=\"https://nbviewer.jupyter.org/\">NBViewer</a>),\n",
       "  it may mean that your frontend doesn't currently support widgets.\n",
       "</p>\n"
      ],
      "text/plain": [
       "SelectionSlider(description='Month: ', options=('jan', 'feb', 'mar', 'apr', 'may', 'jun', 'jul', 'aug', 'sep', 'oct', 'nov', 'dec', 'all'), value='jan')"
      ]
     },
     "metadata": {},
     "output_type": "display_data"
    }
   ],
   "source": [
    "import ipywidgets as wg\n",
    "from IPython.display import display\n",
    "\n",
    "name = wg.Text(value='Name', description=\"Species: \")\n",
    "month = wg.SelectionSlider(description=\"Month: \", options=['jan', 'feb', 'mar', 'apr', 'may', 'jun', 'jul', 'aug', 'sep', 'oct', 'nov', 'dec', 'all'])\n",
    "algo = wg.Dropdown(options = [\"CTA\", \"GLM\", \"RF\"], description=\"Algorithm: \")\n",
    "threshold = wg.Dropdown(options = ['1', '10', '50'], description=\"Prediction threshold: \")\n",
    "display(name, algo, threshold, month)"
   ]
  },
  {
   "cell_type": "markdown",
   "metadata": {},
   "source": [
    "NOTE: In the directory, there are only files for oct/nov/dec of the few species there (e.g. Papilio_glaucus), so if you leave the slider at jan-september, you're gonna have a bad time. When the values for the GUI are changed, no need to hit enter, leave them, and move to the cell below. Once you hit enter in the cell below, the values in the above GUI are registered and appropriately saved. A map (that unfortunately isn't animated) is generated using the user's inputs. It is a possibility to add multiple inline plots, without doing the GIF format, which should have something close to the same effect, but that isn't necessary yet."
   ]
  },
  {
   "cell_type": "code",
   "execution_count": 3,
   "metadata": {},
   "outputs": [
    {
     "name": "stdout",
     "output_type": "stream",
     "text": [
      "SDM: Papilio_glaucus using CTA algorithm with threshold 10 displaying month: dec\n"
     ]
    },
    {
     "data": {
      "image/png": "[encoded data removed]",
      "text/plain": [
       "<matplotlib.figure.Figure at 0x23549f06e48>"
      ]
     },
     "metadata": {},
     "output_type": "display_data"
    }
   ],
   "source": [
    "from PIL import Image\n",
    "import matplotlib.pyplot as plt\n",
    "%matplotlib inline\n",
    "print(\"SDM: \" + name.value + \" using \" + algo.value + \" algorithm with threshold \" + threshold.value + \" displaying month: \" + str(month.value))\n",
    "picture = name.value + \"-\" + month.value + \"-\" + algo.value + \"-\" + threshold.value + \"-prediction-\" + algo.value + \"-\" + threshold.value + \".png\"\n",
    "\n",
    "img = Image.open(name.value+\"/\"+picture)\n",
    "fig = plt.figure()\n",
    "fig.suptitle(name.value + ', ' + month.value + ', '+ algo.value + threshold.value)\n",
    "plt.imshow(img)\n",
    "plt.show(img)"
   ]
  },
  {
   "cell_type": "markdown",
   "metadata": {},
   "source": [
    "# The next five code cells can be ignored; four were for practicing wigets, the fifth is junk code."
   ]
  },
  {
   "cell_type": "code",
   "execution_count": 82,
   "metadata": {},
   "outputs": [
    {
     "data": {
      "application/vnd.jupyter.widget-view+json": {
       "model_id": "64c94c96125a477d906e766b831929cd",
       "version_major": 2,
       "version_minor": 0
      },
      "text/html": [
       "<p>Failed to display Jupyter Widget of type <code>FloatText</code>.</p>\n",
       "<p>\n",
       "  If you're reading this message in the Jupyter Notebook or JupyterLab Notebook, it may mean\n",
       "  that the widgets JavaScript is still loading. If this message persists, it\n",
       "  likely means that the widgets JavaScript library is either not installed or\n",
       "  not enabled. See the <a href=\"https://ipywidgets.readthedocs.io/en/stable/user_install.html\">Jupyter\n",
       "  Widgets Documentation</a> for setup instructions.\n",
       "</p>\n",
       "<p>\n",
       "  If you're reading this message in another frontend (for example, a static\n",
       "  rendering on GitHub or <a href=\"https://nbviewer.jupyter.org/\">NBViewer</a>),\n",
       "  it may mean that your frontend doesn't currently support widgets.\n",
       "</p>\n"
      ],
      "text/plain": [
       "FloatText(value=0.0)"
      ]
     },
     "metadata": {},
     "output_type": "display_data"
    },
    {
     "data": {
      "application/vnd.jupyter.widget-view+json": {
       "model_id": "2a61b7d7a4e24cee921468798e614a70",
       "version_major": 2,
       "version_minor": 0
      },
      "text/html": [
       "<p>Failed to display Jupyter Widget of type <code>FloatSlider</code>.</p>\n",
       "<p>\n",
       "  If you're reading this message in the Jupyter Notebook or JupyterLab Notebook, it may mean\n",
       "  that the widgets JavaScript is still loading. If this message persists, it\n",
       "  likely means that the widgets JavaScript library is either not installed or\n",
       "  not enabled. See the <a href=\"https://ipywidgets.readthedocs.io/en/stable/user_install.html\">Jupyter\n",
       "  Widgets Documentation</a> for setup instructions.\n",
       "</p>\n",
       "<p>\n",
       "  If you're reading this message in another frontend (for example, a static\n",
       "  rendering on GitHub or <a href=\"https://nbviewer.jupyter.org/\">NBViewer</a>),\n",
       "  it may mean that your frontend doesn't currently support widgets.\n",
       "</p>\n"
      ],
      "text/plain": [
       "FloatSlider(value=0.0)"
      ]
     },
     "metadata": {},
     "output_type": "display_data"
    }
   ],
   "source": [
    "a = wg.FloatText()\n",
    "b = wg.FloatSlider()\n",
    "display(a, b)\n",
    "mylink = wg.jslink((a, 'value'), (b, 'value'))"
   ]
  },
  {
   "cell_type": "code",
   "execution_count": 83,
   "metadata": {},
   "outputs": [],
   "source": [
    "import numpy as np\n",
    "%matplotlib inline\n",
    "import matplotlib.pyplot as plt\n",
    "def myPlot(c):\n",
    "    x = np.linspace(-5,5,20)\n",
    "    y = c * x**2\n",
    "    plt.plot(x,y,'r--')\n",
    "    plt.ylabel('y(x)')\n",
    "    plt.xlabel('x')\n",
    "    plt.ylim([0,80])\n",
    "    plt.xlim([-5,5])\n"
   ]
  },
  {
   "cell_type": "code",
   "execution_count": 84,
   "metadata": {},
   "outputs": [
    {
     "data": {
      "application/vnd.jupyter.widget-view+json": {
       "model_id": "6423e64dea324832a4442a161a382fe3",
       "version_major": 2,
       "version_minor": 0
      },
      "text/html": [
       "<p>Failed to display Jupyter Widget of type <code>interactive</code>.</p>\n",
       "<p>\n",
       "  If you're reading this message in the Jupyter Notebook or JupyterLab Notebook, it may mean\n",
       "  that the widgets JavaScript is still loading. If this message persists, it\n",
       "  likely means that the widgets JavaScript library is either not installed or\n",
       "  not enabled. See the <a href=\"https://ipywidgets.readthedocs.io/en/stable/user_install.html\">Jupyter\n",
       "  Widgets Documentation</a> for setup instructions.\n",
       "</p>\n",
       "<p>\n",
       "  If you're reading this message in another frontend (for example, a static\n",
       "  rendering on GitHub or <a href=\"https://nbviewer.jupyter.org/\">NBViewer</a>),\n",
       "  it may mean that your frontend doesn't currently support widgets.\n",
       "</p>\n"
      ],
      "text/plain": [
       "interactive(children=(FloatSlider(value=1.0, description='c', max=3.0), Output()), _dom_classes=('widget-interact',))"
      ]
     },
     "metadata": {},
     "output_type": "display_data"
    },
    {
     "data": {
      "text/plain": [
       "<function __main__.myPlot>"
      ]
     },
     "execution_count": 84,
     "metadata": {},
     "output_type": "execute_result"
    }
   ],
   "source": [
    "c_slide = wg.FloatSlider(value=1.0,min=0,max=3.0,step=0.1)\n",
    "wg.interact(myPlot, c=c_slide)"
   ]
  },
  {
   "cell_type": "code",
   "execution_count": 85,
   "metadata": {},
   "outputs": [
    {
     "data": {
      "application/vnd.jupyter.widget-view+json": {
       "model_id": "2063bdaf49f6415cafc9f59547a2456c",
       "version_major": 2,
       "version_minor": 0
      },
      "text/html": [
       "<p>Failed to display Jupyter Widget of type <code>IntProgress</code>.</p>\n",
       "<p>\n",
       "  If you're reading this message in the Jupyter Notebook or JupyterLab Notebook, it may mean\n",
       "  that the widgets JavaScript is still loading. If this message persists, it\n",
       "  likely means that the widgets JavaScript library is either not installed or\n",
       "  not enabled. See the <a href=\"https://ipywidgets.readthedocs.io/en/stable/user_install.html\">Jupyter\n",
       "  Widgets Documentation</a> for setup instructions.\n",
       "</p>\n",
       "<p>\n",
       "  If you're reading this message in another frontend (for example, a static\n",
       "  rendering on GitHub or <a href=\"https://nbviewer.jupyter.org/\">NBViewer</a>),\n",
       "  it may mean that your frontend doesn't currently support widgets.\n",
       "</p>\n"
      ],
      "text/plain": [
       "IntProgress(value=0, description='Loading: ')"
      ]
     },
     "metadata": {},
     "output_type": "display_data"
    }
   ],
   "source": [
    "import time\n",
    "progress = wg.IntProgress(description='Loading: ')\n",
    "progress.orientation='horizontal'\n",
    "display(progress)\n",
    "for i in range(100):\n",
    "    progress.value = i\n",
    "    time.sleep(0.1)"
   ]
  },
  {
   "cell_type": "code",
   "execution_count": null,
   "metadata": {},
   "outputs": [],
   "source": [
    "import glob\n",
    "import matplotlib.pyplot as plt\n",
    "import matplotlib.image as mpimg\n",
    "from PIL import Image\n",
    "%matplotlib inline\n",
    "\n",
    "species = input(\"Enter a species here: \")\n",
    "monthz = [\"oct\", \"nov\", \"dec\"]\n",
    "algorithmz = [\"CTA\", \"RF\"]\n",
    "predictionz = [\"1\", \"10\"]\n",
    "\n",
    "path = \"\"\n",
    "images = []\n",
    "\n",
    "for month in monthz:\n",
    "    for algo in algorithmz:\n",
    "        for prediction in predictionz:\n",
    "            \n",
    "            picture = species + \"-\" + month + \"-\" + algo + \"-\" + prediction + \"-prediction-\" + algo + \"-\" + prediction + \".png\"\n",
    "            direc = species\n",
    "            img = Image.open(species+\"/\"+picture)\n",
    "            images.append(img)\n",
    "            \n",
    "            for image in images:        \n",
    "                plt.figure()\n",
    "                plt.imshow(image)\n",
    "                plt.show(image)\n",
    "\n",
    "\n",
    "\n",
    "#plt.figure(figsize=(20,10))\n",
    "#columns = 5\n",
    "#for i, image in enumerate(images):\n",
    "#    plt.subplot(len(images) / columns + 1, columns, i + 1)\n",
    "#    plt.imshow(image)\n"
   ]
  },
  {
   "cell_type": "markdown",
   "metadata": {},
   "source": [
    "# Creating GIF (used in subsequent codeblocks)"
   ]
  },
  {
   "cell_type": "code",
   "execution_count": 13,
   "metadata": {},
   "outputs": [
    {
     "name": "stdout",
     "output_type": "stream",
     "text": [
      "filename list: \n",
      "['Papilio_glaucus-oct-CTA-10-prediction-CTA-10.png', 'Papilio_glaucus-nov-CTA-10-prediction-CTA-10.png', 'Papilio_glaucus-dec-CTA-10-prediction-CTA-10.png']\n",
      "filename2 list: \n",
      "['Papilio_glaucus-oct-RF-10-prediction-RF-10.png', 'Papilio_glaucus-nov-RF-10-prediction-RF-10.png', 'Papilio_glaucus-dec-RF-10-prediction-RF-10.png']\n",
      "heading list: \n",
      "['Papilio_glaucus oct', 'Papilio_glaucus nov', 'Papilio_glaucus dec']\n"
     ]
    }
   ],
   "source": [
    "import glob, os\n",
    "import imageio\n",
    "\n",
    "'''\n",
    "If a GIF is generated for a species for some predictive factor (i.e. 1, 10, or 50) for a given algorithm,\n",
    "two more GIFs are generated for the other two algorithms. If the user submits 'Papilio_glaucus; \"CTA\"; 10',\n",
    "GIFs are generated for 'Papilio_glaucus RF 10 and Papilio_glaucus GLM 10.\n",
    "\n",
    "Only two are covered right now, given GLM was not saved into the prototype directory. Code must be adapted to datastore.\n",
    "'''\n",
    "\n",
    "#Step forward a directory\n",
    "os.chdir(name.value)\n",
    "\n",
    "#Creates lists of filenames according to each algorithm\n",
    "filenames = []\n",
    "filenames2 = []\n",
    "filenames3 = []\n",
    "\n",
    "#Allows reference of other algorithms on top of user input\n",
    "algo1 = \"\"\n",
    "algo2 = \"\"\n",
    "if algo.value == \"CTA\":\n",
    "    algo1 = \"RF\"\n",
    "    algo2 = \"GLM\"\n",
    "elif algo.value == \"RF\":\n",
    "    algo1 = \"CTA\"\n",
    "    algo2 = \"GLM\"\n",
    "elif algo.value == \"GLM\":\n",
    "    algo1 = \"CTA\"\n",
    "    algo2 = \"RF\"\n",
    "\n",
    "\n",
    "#Find all files that match this pattern and append them, then prints each list\n",
    "for file in glob.glob(name.value + '-' + '???' + '-' + algo.value +'-' +'??' + '-prediction-' + algo.value + '-' + '??.png'):\n",
    "    filenames.append(file)\n",
    "    \n",
    "for file2 in glob.glob(name.value + '-' + '???' + '-' + algo1 +'-' +'??' + '-prediction-' + algo1 + '-' + '??.png'):\n",
    "    filenames2.append(file2)\n",
    "    \n",
    "#for file3 in glob.glob(name.value + '-' + '???' + '-' + algo2 +'-' +'??' + '-prediction-' + algo2 + '-' + '??.png'):\n",
    "#    filenames3.append(file3)\n",
    "    \n",
    "print(\"filename list: \")\n",
    "filenames.reverse() #Otherwise animation would start with 'all,' and iterate 'dec,' 'nov,' 'oct.'\n",
    "print(filenames)\n",
    "\n",
    "print(\"filename2 list: \")\n",
    "filenames2.reverse()\n",
    "print(filenames2)\n",
    "\n",
    "#print(\"filename3 list: \")\n",
    "#filenames3.reverse()\n",
    "#print(filenames3)\n",
    "\n",
    "\n",
    "#=======================================THIS SUBSECTION IS FOR TESTING==========================================\n",
    "\n",
    "def fname_to_header(headings):\n",
    "    header = [((' '.join((i.split('-')[0]).split(' '))) + ' ' + i.split('-')[1]) for i in headings]\n",
    "    return header\n",
    "heading = fname_to_header(filenames)\n",
    "\n",
    "print(\"heading list: \")\n",
    "print(heading)\n",
    "\n",
    "#=================================================================================================================\n",
    "\n",
    "\n",
    "#Step back a directory\n",
    "os.chdir('..')\n",
    "\n",
    "#Build GIF of images based on saved filenames\n",
    "images = []\n",
    "images1 = []\n",
    "images2 = []\n",
    "for filename in filenames:\n",
    "    images.append(imageio.imread(name.value + \"/\" + filename))\n",
    "for filename in filenames2:\n",
    "    images1.append(imageio.imread(name.value + \"/\" + filename))\n",
    "#for filename in filenames3:\n",
    "#    images2.append(imageio.imread(name.value + \"/\" + filename))    \n",
    "\n",
    "#Create gifs/ directory if non exists\n",
    "if not os.path.exists('gifs/'):\n",
    "    os.makedirs('gifs/')\n",
    "    \n",
    "#Save GIFs; Duration parameter determines how quickly images are looped through in GIF\n",
    "imageio.mimsave('gifs/' + name.value + '-' + algo.value + '.gif', images, duration=0.3)\n",
    "imageio.mimsave('gifs/' + name.value + '-' + algo1 + '.gif', images1, duration=0.3)\n"
   ]
  },
  {
   "cell_type": "markdown",
   "metadata": {},
   "source": [
    "# Another way of bringing up a titled image without animation"
   ]
  },
  {
   "cell_type": "code",
   "execution_count": 5,
   "metadata": {},
   "outputs": [
    {
     "data": {
      "image/png": "[encoded data removed]",
      "text/plain": [
       "<matplotlib.figure.Figure at 0x1d4ba1b9908>"
      ]
     },
     "metadata": {},
     "output_type": "display_data"
    }
   ],
   "source": [
    "import matplotlib.pyplot as plt\n",
    "import matplotlib.image as mpimg\n",
    "img=mpimg.imread('gifs/' + name.value + '-' + algo.value + '.gif')\n",
    "imgplot = plt.imshow(img)\n",
    "plt.suptitle(name.value + \" \" + month.value)\n",
    "plt.show()"
   ]
  },
  {
   "cell_type": "markdown",
   "metadata": {},
   "source": [
    "# A way of animating the GIFs, but no label/title yet"
   ]
  },
  {
   "cell_type": "code",
   "execution_count": 20,
   "metadata": {},
   "outputs": [
    {
     "data": {
      "text/html": [
       "<img src=\"gifs/Papilio_glaucus-CTA.gif\">"
      ],
      "text/plain": [
       "<IPython.core.display.HTML object>"
      ]
     },
     "execution_count": 20,
     "metadata": {},
     "output_type": "execute_result"
    }
   ],
   "source": [
    "from IPython import display\n",
    "\n",
    "def display_gif(fn):\n",
    "    return display.HTML('<img src=\"{}\">'.format(fn))\n",
    "f_name = \"\"\n",
    "\n",
    "    \n",
    "display_gif('gifs/' + name.value + '-' + algo.value + '.gif')"
   ]
  },
  {
   "cell_type": "code",
   "execution_count": 16,
   "metadata": {},
   "outputs": [
    {
     "data": {
      "text/html": [
       "<img src=\"gifs/Papilio_glaucus-RF.gif\">"
      ],
      "text/plain": [
       "<IPython.core.display.HTML object>"
      ]
     },
     "execution_count": 16,
     "metadata": {},
     "output_type": "execute_result"
    }
   ],
   "source": [
    "display_gif('gifs/' + name.value + '-' + algo1 + '.gif')"
   ]
  },
  {
   "cell_type": "markdown",
   "metadata": {},
   "source": [
    "## Test (Horrendous mess)"
   ]
  },
  {
   "cell_type": "code",
   "execution_count": 25,
   "metadata": {},
   "outputs": [
    {
     "data": {
      "text/html": [
       "<table style='width:100%'><tr><th>Papilio_glaucus dec</th><th>Papilio_glaucus nov</th><th>Papilio_glaucus oct</th><td>'<img src='gifs/Papilio_glaucus-CTA.gif' /></td><td>'<img src='gifs/Papilio_glaucus-CTA.gif' /></td><td>'<img src='gifs/Papilio_glaucus-CTA.gif' /></td><td>'<img src='gifs/Papilio_glaucus-CTA.gif' /></td><td>'<img src='gifs/Papilio_glaucus-CTA.gif' /></td><td>'<img src='gifs/Papilio_glaucus-CTA.gif' /></td><td>'<img src='gifs/Papilio_glaucus-CTA.gif' /></td><td>'<img src='gifs/Papilio_glaucus-CTA.gif' /></td><td>'<img src='gifs/Papilio_glaucus-CTA.gif' /></td><td>'<img src='gifs/Papilio_glaucus-CTA.gif' /></td><td>'<img src='gifs/Papilio_glaucus-CTA.gif' /></td><td>'<img src='gifs/Papilio_glaucus-CTA.gif' /></td><td>'<img src='gifs/Papilio_glaucus-CTA.gif' /></td><td>'<img src='gifs/Papilio_glaucus-CTA.gif' /></td><td>'<img src='gifs/Papilio_glaucus-CTA.gif' /></td><td>'<img src='gifs/Papilio_glaucus-CTA.gif' /></td><td>'<img src='gifs/Papilio_glaucus-CTA.gif' /></td><td>'<img src='gifs/Papilio_glaucus-CTA.gif' /></td><td>'<img src='gifs/Papilio_glaucus-CTA.gif' /></td><td>'<img src='gifs/Papilio_glaucus-CTA.gif' /></td><td>'<img src='gifs/Papilio_glaucus-CTA.gif' /></td><td>'<img src='gifs/Papilio_glaucus-CTA.gif' /></td><td>'<img src='gifs/Papilio_glaucus-CTA.gif' /></td><td>'<img src='gifs/Papilio_glaucus-CTA.gif' /></td><td>'<img src='gifs/Papilio_glaucus-CTA.gif' /></td><td>'<img src='gifs/Papilio_glaucus-CTA.gif' /></td><td>'<img src='gifs/Papilio_glaucus-CTA.gif' /></td><td>'<img src='gifs/Papilio_glaucus-CTA.gif' /></td></tr></table>"
      ],
      "text/plain": [
       "<IPython.core.display.HTML object>"
      ]
     },
     "metadata": {},
     "output_type": "display_data"
    }
   ],
   "source": [
    "from IPython.display import display, HTML, Image\n",
    "\n",
    "def Images(images, header=heading, width=\"100%\"): # to match Image syntax\n",
    "    if type(width)==type(1): width = \"{}px\".format(width)\n",
    "    html = [\"<table style='width:{}'><tr>\".format(width)]\n",
    "    if header is not None:\n",
    "        html += [\"<th>{}</th>\".format(h) for h in header]\n",
    "\n",
    "    for image in images:\n",
    "        html.append(\"<td>'<img src='{}' /></td>\".format(images))\n",
    "    html.append(\"</tr></table>\")\n",
    "    display(HTML(''.join(html)))\n",
    "Images(('gifs/' + name.value + '-' + algo.value + '.gif'), heading)\n",
    "\n",
    "def display_gif(fn):\n",
    "    return display.HTML(['<th>{}</th>'.format(h) for h in header], '<img src=\"{}\">'.format(fn))"
   ]
  },
  {
   "cell_type": "code",
   "execution_count": null,
   "metadata": {},
   "outputs": [],
   "source": []
  }
 ],
 "metadata": {
  "anaconda-cloud": {},
  "kernelspec": {
   "display_name": "Python 3",
   "language": "python",
   "name": "python3"
  },
  "language_info": {
   "codemirror_mode": {
    "name": "ipython",
    "version": 3
   },
   "file_extension": ".py",
   "mimetype": "text/x-python",
   "name": "python",
   "nbconvert_exporter": "python",
   "pygments_lexer": "ipython3",
   "version": "3.6.0"
  }
 },
 "nbformat": 4,
 "nbformat_minor": 2
}
