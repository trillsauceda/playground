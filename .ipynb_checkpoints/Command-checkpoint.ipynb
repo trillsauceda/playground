{
 "cells": [
  {
   "cell_type": "markdown",
   "metadata": {},
   "source": [
    "# This notebook controls most of the visualization functionality"
   ]
  },
  {
   "cell_type": "markdown",
   "metadata": {},
   "source": [
    "# Requirements\n",
    "\n",
    "These widgets may not show up in your Jupyter notebook without first installing ipywidgets and enabling the extensions."
   ]
  },
  {
   "cell_type": "markdown",
   "metadata": {},
   "source": [
    "```\n",
    "pip install ipywidgets\n",
    "\n",
    "jupyter nbextension enable --py widgetsnbextension\n",
    "\n",
    "or\n",
    "\n",
    "jupyter nbextension enable --py --sys-prefix widgetsnbextension\n",
    "```"
   ]
  },
  {
   "cell_type": "code",
   "execution_count": 1,
   "metadata": {
    "collapsed": true
   },
   "outputs": [],
   "source": [
    "import ipywidgets as wg\n",
    "from IPython.display import Image\n",
    "from IPython.display import display\n",
    "from __future__ import print_function\n",
    "from ipywidgets import interact, interactive, fixed, interact_manual\n",
    "import glob, os\n",
    "import imageio"
   ]
  },
  {
   "cell_type": "markdown",
   "metadata": {},
   "source": [
    "# GUI\n",
    "\n",
    "This codeblock builds and displays the GUI."
   ]
  },
  {
   "cell_type": "code",
   "execution_count": 2,
   "metadata": {
    "scrolled": true
   },
   "outputs": [
    {
     "data": {
      "application/vnd.jupyter.widget-view+json": {
       "model_id": "24d0f08474b847ada6a42db7e3fbba75",
       "version_major": 2,
       "version_minor": 0
      },
      "text/plain": [
       "A Jupyter Widget"
      ]
     },
     "metadata": {},
     "output_type": "display_data"
    },
    {
     "data": {
      "application/vnd.jupyter.widget-view+json": {
       "model_id": "a1946e8a8b034b3abf1d8fe14102e149",
       "version_major": 2,
       "version_minor": 0
      },
      "text/plain": [
       "A Jupyter Widget"
      ]
     },
     "metadata": {},
     "output_type": "display_data"
    },
    {
     "data": {
      "application/vnd.jupyter.widget-view+json": {
       "model_id": "b5963bcb6a2c41f5bcc034d7c788128f",
       "version_major": 2,
       "version_minor": 0
      },
      "text/plain": [
       "A Jupyter Widget"
      ]
     },
     "metadata": {},
     "output_type": "display_data"
    },
    {
     "data": {
      "application/vnd.jupyter.widget-view+json": {
       "model_id": "e8e31ff17ffd4714b36dd3776946fd73",
       "version_major": 2,
       "version_minor": 0
      },
      "text/plain": [
       "A Jupyter Widget"
      ]
     },
     "metadata": {},
     "output_type": "display_data"
    }
   ],
   "source": [
    "name = wg.Text(value='Name', description=\"Species: \")\n",
    "month = wg.SelectionSlider(description=\"Month: \", options=['jan', 'feb', 'mar', 'apr', 'may', 'jun', 'jul', 'aug', 'sep', 'oct', 'nov', 'dec', 'all'])\n",
    "algo = wg.Dropdown(options = [\"CTA\", \"GLM\", \"RF\"], description=\"Algorithm: \")\n",
    "threshold = wg.Dropdown(options = ['1', '10', '50'], description=\"Prediction threshold: \")\n",
    "display(name, algo, threshold, month)"
   ]
  },
  {
   "cell_type": "markdown",
   "metadata": {},
   "source": [
    "NOTE: In the directory, there are only files for oct/nov/dec of the few species there (e.g. Papilio_glaucus), so if you leave the slider at jan-september, you're gonna have a bad time. When the values for the GUI are changed, no need to hit enter, leave them, and move to the cell below. Once you hit enter in the cell below, the values in the above GUI are registered and appropriately saved. A map (that unfortunately isn't animated) is generated using the user's inputs. It is a possibility to add multiple inline plots, without doing the GIF format, which should have something close to the same effect, but that isn't necessary yet."
   ]
  },
  {
   "cell_type": "code",
   "execution_count": 17,
   "metadata": {},
   "outputs": [
    {
     "name": "stdout",
     "output_type": "stream",
     "text": [
      "SDM: Papilio_glaucus using CTA algorithm with threshold 10 displaying month: dec\n"
     ]
    },
    {
     "data": {
      "image/png": "[encoded data removed]",
      "text/plain": [
       "<matplotlib.figure.Figure at 0x11ac7abe0>"
      ]
     },
     "metadata": {},
     "output_type": "display_data"
    }
   ],
   "source": [
    "from PIL import Image as Img\n",
    "from PIL import ImageFont, ImageDraw \n",
    "import matplotlib.pyplot as plt\n",
    "%matplotlib inline\n",
    "print(\"SDM: \" + name.value + \" using \" + algo.value + \" algorithm with threshold \" + threshold.value + \" displaying month: \" + str(month.value))\n",
    "picture = name.value + \"-\" + month.value + \"-\" + algo.value + \"-\" + threshold.value + \"-prediction-\" + algo.value + \"-\" + threshold.value + \".png\"\n",
    "\n",
    "img = Img.open(name.value+\"/\"+picture)\n",
    "draw = ImageDraw.Draw(img)\n",
    "draw.rectangle(((0, 0), (250, 40)), fill=\"white\")\n",
    "font = ImageFont.truetype(\"adventpro.ttf\", 16)\n",
    "draw.text((15, 10),name.value.upper() + ' - ' + month.value.upper() + ' - '+ algo.value + threshold.value,(0,0,0),font=font)\n",
    "img.save(name.value+\"/\"+picture)\n",
    "fig = plt.figure()\n",
    "fig.suptitle(name.value + ', ' + month.value + ', '+ algo.value + threshold.value)\n",
    "plt.imshow(img)\n",
    "plt.show(img)"
   ]
  },
  {
   "cell_type": "code",
   "execution_count": 8,
   "metadata": {
    "collapsed": true
   },
   "outputs": [],
   "source": [
    "# Creating GIF (used in subsequent codeblocks)"
   ]
  },
  {
   "cell_type": "code",
   "execution_count": 9,
   "metadata": {},
   "outputs": [
    {
     "name": "stdout",
     "output_type": "stream",
     "text": [
      "filename list: \n",
      "['Papilio_glaucus-oct-CTA-10-prediction-CTA-10.png', 'Papilio_glaucus-nov-CTA-10-prediction-CTA-10.png', 'Papilio_glaucus-dec-CTA-10-prediction-CTA-10.png']\n",
      "filename2 list: \n",
      "['Papilio_glaucus-oct-RF-10-prediction-RF-10.png', 'Papilio_glaucus-nov-RF-10-prediction-RF-10.png', 'Papilio_glaucus-dec-RF-10-prediction-RF-10.png']\n",
      "heading list: \n",
      "['Papilio_glaucus oct', 'Papilio_glaucus nov', 'Papilio_glaucus dec']\n"
     ]
    },
    {
     "data": {
      "text/html": [
       "<img src=\"gifs/Papilio_glaucus-CTA.gif\" width=\"350\"/>"
      ],
      "text/plain": [
       "<IPython.core.display.Image object>"
      ]
     },
     "metadata": {},
     "output_type": "display_data"
    },
    {
     "data": {
      "text/html": [
       "<img src=\"gifs/Papilio_glaucus-RF.gif\" width=\"350\"/>"
      ],
      "text/plain": [
       "<IPython.core.display.Image object>"
      ]
     },
     "metadata": {},
     "output_type": "display_data"
    }
   ],
   "source": [
    "import glob, os\n",
    "import imageio\n",
    "\n",
    "'''\n",
    "If a GIF is generated for a species for some predictive factor (i.e. 1, 10, or 50) for a given algorithm,\n",
    "two more GIFs are generated for the other two algorithms. If the user submits 'Papilio_glaucus; \"CTA\"; 10',\n",
    "GIFs are generated for 'Papilio_glaucus RF 10 and Papilio_glaucus GLM 10.\n",
    "\n",
    "Only two are covered right now, given GLM was not saved into the prototype directory. Code must be adapted to datastore.\n",
    "'''\n",
    "\n",
    "#Step forward a directory\n",
    "os.chdir(name.value)\n",
    "\n",
    "#Creates lists of filenames according to each algorithm\n",
    "filenames = []\n",
    "filenames2 = []\n",
    "filenames3 = []\n",
    "\n",
    "#Allows reference of other algorithms on top of user input\n",
    "algo1 = \"\"\n",
    "algo2 = \"\"\n",
    "if algo.value == \"CTA\":\n",
    "    algo1 = \"RF\"\n",
    "    algo2 = \"GLM\"\n",
    "elif algo.value == \"RF\":\n",
    "    algo1 = \"CTA\"\n",
    "    algo2 = \"GLM\"\n",
    "elif algo.value == \"GLM\":\n",
    "    algo1 = \"CTA\"\n",
    "    algo2 = \"RF\"\n",
    "\n",
    "\n",
    "#Find all files that match this pattern and append them, then prints each list\n",
    "for file in glob.glob(name.value + '-' + '???' + '-' + algo.value +'-' +'??' + '-prediction-' + algo.value + '-' + '??.png'):\n",
    "    filenames.append(file)\n",
    "    \n",
    "for file2 in glob.glob(name.value + '-' + '???' + '-' + algo1 +'-' +'??' + '-prediction-' + algo1 + '-' + '??.png'):\n",
    "    filenames2.append(file2)\n",
    "    \n",
    "#for file3 in glob.glob(name.value + '-' + '???' + '-' + algo2 +'-' +'??' + '-prediction-' + algo2 + '-' + '??.png'):\n",
    "#    filenames3.append(file3)\n",
    "    \n",
    "print(\"filename list: \")\n",
    "filenames.reverse() #Otherwise animation would start with 'all,' and iterate 'dec,' 'nov,' 'oct.'\n",
    "print(filenames)\n",
    "\n",
    "print(\"filename2 list: \")\n",
    "filenames2.reverse()\n",
    "print(filenames2)\n",
    "\n",
    "#print(\"filename3 list: \")\n",
    "#filenames3.reverse()\n",
    "#print(filenames3)\n",
    "\n",
    "\n",
    "#=======================================THIS SUBSECTION IS FOR TESTING==========================================\n",
    "\n",
    "def fname_to_header(headings):\n",
    "    header = [((' '.join((i.split('-')[0]).split(' '))) + ' ' + i.split('-')[1]) for i in headings]\n",
    "    return header\n",
    "heading = fname_to_header(filenames)\n",
    "\n",
    "print(\"heading list: \")\n",
    "print(heading)\n",
    "\n",
    "#=================================================================================================================\n",
    "\n",
    "\n",
    "#Step back a directory\n",
    "os.chdir('..')\n",
    "\n",
    "#Build GIF of images based on saved filenames\n",
    "images = []\n",
    "images1 = []\n",
    "images2 = []\n",
    "for filename in filenames:\n",
    "    img = Img.open(name.value+\"/\"+filename)\n",
    "    draw = ImageDraw.Draw(img)\n",
    "    draw.rectangle(((0, 0), (250, 40)), fill=\"white\")\n",
    "    font = ImageFont.truetype(\"adventpro.ttf\", 16)\n",
    "    month = filename.split(\"-\")[1]\n",
    "    draw.text((15, 10),name.value.upper() + ' - ' + month.upper() + ' - '+ algo.value + threshold.value,(0,0,0),font=font)\n",
    "    img.save(name.value+\"/\"+filename)\n",
    "    images.append(imageio.imread(name.value + \"/\" + filename))\n",
    "for filename in filenames2:\n",
    "    img = Img.open(name.value+\"/\"+filename)\n",
    "    draw = ImageDraw.Draw(img)\n",
    "    draw.rectangle(((0, 0), (250, 40)), fill=\"white\")\n",
    "    font = ImageFont.truetype(\"adventpro.ttf\", 16)\n",
    "    month = filename.split(\"-\")[1]\n",
    "    draw.text((15, 10),name.value.upper() + ' - ' + month.upper() + ' - '+ algo.value + threshold.value,(0,0,0),font=font)\n",
    "    img.save(name.value+\"/\"+filename)\n",
    "    images1.append(imageio.imread(name.value + \"/\" + filename))\n",
    "#for filename in filenames3:\n",
    "#    images2.append(imageio.imread(name.value + \"/\" + filename))    \n",
    "\n",
    "#Create gifs/ directory if non exists\n",
    "if not os.path.exists('gifs/'):\n",
    "    os.makedirs('gifs/')\n",
    "    \n",
    "#Save GIFs; Duration parameter determines how quickly images are looped through in GIF\n",
    "imageio.mimsave('gifs/' + name.value + '-' + algo.value + '.gif', images, duration=0.3)\n",
    "imageio.mimsave('gifs/' + name.value + '-' + algo1 + '.gif', images1, duration=0.3)\n",
    "\n",
    "algo1_gif = ('gifs/' + name.value + '-' + algo.value + '.gif')\n",
    "algo2_gif = ('gifs/' + name.value + '-' + algo1 + '.gif')\n",
    "#algo3_gif = ('gifs/' + name.value + '-' + algo2 + '.gif')\n",
    "\n",
    "from IPython.display import Image as im\n",
    "from IPython.display import display\n",
    "algo1_img = im(url=algo1_gif, width=350)\n",
    "algo2_img = im(url=algo2_gif, width=350)\n",
    "\n",
    "display(algo1_img, algo2_img)"
   ]
  },
  {
   "cell_type": "markdown",
   "metadata": {},
   "source": [
    "# Another way of bringing up a titled image without animation"
   ]
  },
  {
   "cell_type": "code",
   "execution_count": 5,
   "metadata": {},
   "outputs": [
    {
     "data": {
      "image/png": "[encoded data removed]",
      "text/plain": [
       "<matplotlib.figure.Figure at 0x10ed44ac8>"
      ]
     },
     "metadata": {},
     "output_type": "display_data"
    }
   ],
   "source": [
    "import matplotlib.pyplot as plt\n",
    "import matplotlib.image as mpimg\n",
    "img=mpimg.imread('gifs/' + name.value + '-' + algo.value + '.gif')\n",
    "imgplot = plt.imshow(img)\n",
    "plt.suptitle(name.value + \" \" + month.value)\n",
    "plt.show()"
   ]
  },
  {
   "cell_type": "markdown",
   "metadata": {},
   "source": [
    "# A way of animating the GIFs, but no label/title yet"
   ]
  },
  {
   "cell_type": "code",
   "execution_count": 6,
   "metadata": {},
   "outputs": [
    {
     "data": {
      "text/html": [
       "<img src=\"gifs/Papilio_glaucus-CTA.gif\">"
      ],
      "text/plain": [
       "<IPython.core.display.HTML object>"
      ]
     },
     "execution_count": 6,
     "metadata": {},
     "output_type": "execute_result"
    }
   ],
   "source": [
    "from IPython import display\n",
    "\n",
    "def display_gif(fn):\n",
    "    #return (display.HTML('<h1>{}</h1>'.format(fn)), display.HTML('<img src=\"{}\">'.format(fn)))\n",
    "    return display.HTML('<img src=\"{}\">'.format(fn))\n",
    "display_gif('gifs/' + name.value + '-' + algo.value + '.gif')\n",
    "\n",
    "#fn = 'gifs/' + name.value + '-' + algo.value + '.gif'\n",
    "#x = display.HTML('<h1>{}</h1>'.format(fn))\n",
    "#y = display.HTML('<img src=\"{}\">'.format(fn))\n",
    "#display(x, y)"
   ]
  },
  {
   "cell_type": "markdown",
   "metadata": {},
   "source": [
    "## Test (Horrendous mess)"
   ]
  },
  {
   "cell_type": "code",
   "execution_count": 7,
   "metadata": {},
   "outputs": [
    {
     "data": {
      "text/html": [
       "<table style='width:100%'><tr><th>Papilio_glaucus oct</th><th>Papilio_glaucus nov</th><th>Papilio_glaucus dec</th><td>'<img src='gifs/Papilio_glaucus-CTA.gif' /></td><td>'<img src='gifs/Papilio_glaucus-CTA.gif' /></td><td>'<img src='gifs/Papilio_glaucus-CTA.gif' /></td><td>'<img src='gifs/Papilio_glaucus-CTA.gif' /></td><td>'<img src='gifs/Papilio_glaucus-CTA.gif' /></td><td>'<img src='gifs/Papilio_glaucus-CTA.gif' /></td><td>'<img src='gifs/Papilio_glaucus-CTA.gif' /></td><td>'<img src='gifs/Papilio_glaucus-CTA.gif' /></td><td>'<img src='gifs/Papilio_glaucus-CTA.gif' /></td><td>'<img src='gifs/Papilio_glaucus-CTA.gif' /></td><td>'<img src='gifs/Papilio_glaucus-CTA.gif' /></td><td>'<img src='gifs/Papilio_glaucus-CTA.gif' /></td><td>'<img src='gifs/Papilio_glaucus-CTA.gif' /></td><td>'<img src='gifs/Papilio_glaucus-CTA.gif' /></td><td>'<img src='gifs/Papilio_glaucus-CTA.gif' /></td><td>'<img src='gifs/Papilio_glaucus-CTA.gif' /></td><td>'<img src='gifs/Papilio_glaucus-CTA.gif' /></td><td>'<img src='gifs/Papilio_glaucus-CTA.gif' /></td><td>'<img src='gifs/Papilio_glaucus-CTA.gif' /></td><td>'<img src='gifs/Papilio_glaucus-CTA.gif' /></td><td>'<img src='gifs/Papilio_glaucus-CTA.gif' /></td><td>'<img src='gifs/Papilio_glaucus-CTA.gif' /></td><td>'<img src='gifs/Papilio_glaucus-CTA.gif' /></td><td>'<img src='gifs/Papilio_glaucus-CTA.gif' /></td><td>'<img src='gifs/Papilio_glaucus-CTA.gif' /></td><td>'<img src='gifs/Papilio_glaucus-CTA.gif' /></td><td>'<img src='gifs/Papilio_glaucus-CTA.gif' /></td><td>'<img src='gifs/Papilio_glaucus-CTA.gif' /></td></tr></table>"
      ],
      "text/plain": [
       "<IPython.core.display.HTML object>"
      ]
     },
     "metadata": {},
     "output_type": "display_data"
    }
   ],
   "source": [
    "from IPython.display import display, HTML, Image\n",
    "\n",
    "def Images(images, header=heading, width=\"100%\"): # to match Image syntax\n",
    "    if type(width)==type(1): width = \"{}px\".format(width)\n",
    "    html = [\"<table style='width:{}'><tr>\".format(width)]\n",
    "    if header is not None:\n",
    "        html += [\"<th>{}</th>\".format(h) for h in header]\n",
    "\n",
    "    for image in images:\n",
    "        html.append(\"<td>'<img src='{}' /></td>\".format(images))\n",
    "    html.append(\"</tr></table>\")\n",
    "    display(HTML(''.join(html)))\n",
    "Images(('gifs/' + name.value + '-' + algo.value + '.gif'), heading)\n",
    "\n",
    "def display_gif(fn):\n",
    "    return display.HTML(['<th>{}</th>'.format(h) for h in header], '<img src=\"{}\">'.format(fn))"
   ]
  },
  {
   "cell_type": "code",
   "execution_count": null,
   "metadata": {
    "collapsed": true
   },
   "outputs": [],
   "source": []
  }
 ],
 "metadata": {
  "anaconda-cloud": {},
  "kernelspec": {
   "display_name": "Python 3",
   "language": "python",
   "name": "python3"
  },
  "language_info": {
   "codemirror_mode": {
    "name": "ipython",
    "version": 3
   },
   "file_extension": ".py",
   "mimetype": "text/x-python",
   "name": "python",
   "nbconvert_exporter": "python",
   "pygments_lexer": "ipython3",
   "version": "3.6.2"
  }
 },
 "nbformat": 4,
 "nbformat_minor": 2
}
